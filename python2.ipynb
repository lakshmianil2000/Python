{
 "cells": [
  {
   "cell_type": "code",
   "execution_count": 4,
   "id": "5c29fc74",
   "metadata": {},
   "outputs": [
    {
     "name": "stdout",
     "output_type": "stream",
     "text": [
      "{'1': 'lakshmi'}\n",
      "1\n"
     ]
    }
   ],
   "source": [
    "thisdict = {\n",
    "  \"1\": \"lemin\",\n",
    "  \"1\": \"lakshmi\",\n",
    " \n",
    "}\n",
    "print(thisdict)\n",
    "print(len(thisdict))"
   ]
  },
  {
   "cell_type": "code",
   "execution_count": 12,
   "id": "49016daa",
   "metadata": {},
   "outputs": [
    {
     "name": "stdout",
     "output_type": "stream",
     "text": [
      "{'Brands': ['Honda', 'BMW', 'nissan', 'tata'], 'model': ['JAZZ', 'X1', 'micra', 'tiago'], 'price': ['8 lakh', '50 lakh', '45 lakh', '50 lakh']}\n"
     ]
    }
   ],
   "source": [
    "thisdict={\n",
    "    \"Brands\":[\"Honda\",\"BMW\",\"nissan\",\"tata\"],\n",
    "    \"model\":[\"JAZZ\",\"X1\",\"micra\",\"tiago\"],\n",
    "    \"price\":[\"8 lakh\",\"50 lakh\",\"45 lakh\",\"50 lakh\"],\n",
    "}\n",
    "print(thisdict)"
   ]
  },
  {
   "cell_type": "code",
   "execution_count": 13,
   "id": "e1b4bb21",
   "metadata": {},
   "outputs": [
    {
     "name": "stdout",
     "output_type": "stream",
     "text": [
      "['JAZZ', 'X1', 'micra', 'tiago']\n"
     ]
    }
   ],
   "source": [
    "x=thisdict[\"model\"]\n",
    "print(x)"
   ]
  },
  {
   "cell_type": "code",
   "execution_count": 14,
   "id": "d96388f2",
   "metadata": {},
   "outputs": [
    {
     "name": "stdout",
     "output_type": "stream",
     "text": [
      "['JAZZ', 'X1', 'micra', 'tiago']\n"
     ]
    }
   ],
   "source": [
    "x=thisdict.get(\"model\")\n",
    "print(x)"
   ]
  },
  {
   "cell_type": "code",
   "execution_count": 16,
   "id": "c778ca45",
   "metadata": {},
   "outputs": [
    {
     "name": "stdout",
     "output_type": "stream",
     "text": [
      "dict_values([['Honda', 'BMW', 'nissan', 'tata'], ['JAZZ', 'X1', 'micra', 'tiago'], ['8 lakh', '50 lakh', '45 lakh', '50 lakh']])\n"
     ]
    }
   ],
   "source": [
    "x=thisdict.values()\n",
    "print(x)"
   ]
  },
  {
   "cell_type": "code",
   "execution_count": 17,
   "id": "e3e77e0f",
   "metadata": {},
   "outputs": [
    {
     "name": "stdout",
     "output_type": "stream",
     "text": [
      "dict_keys(['Brands', 'model', 'price'])\n"
     ]
    }
   ],
   "source": [
    "x=thisdict.keys()\n",
    "print(x)"
   ]
  },
  {
   "cell_type": "code",
   "execution_count": 18,
   "id": "943ff9ba",
   "metadata": {},
   "outputs": [
    {
     "name": "stdout",
     "output_type": "stream",
     "text": [
      "exist\n"
     ]
    }
   ],
   "source": [
    "if \"price\" in thisdict:\n",
    "    print(\"exist\")"
   ]
  },
  {
   "cell_type": "code",
   "execution_count": 24,
   "id": "0b1abeee",
   "metadata": {},
   "outputs": [
    {
     "name": "stdout",
     "output_type": "stream",
     "text": [
      "not exist\n"
     ]
    }
   ],
   "source": [
    "if \"price\" not in thisdict:\n",
    "    print(\"exist\")\n",
    "else:\n",
    "    print(\"not exist\")"
   ]
  },
  {
   "cell_type": "code",
   "execution_count": 44,
   "id": "302da1e6",
   "metadata": {},
   "outputs": [
    {
     "name": "stdout",
     "output_type": "stream",
     "text": [
      "{'list': ['apple', 'grape'], 'tuple': ['red', 'orange'], 'set': ['pineapple'], 'boolean': 'true', 'dict': {'apple': 'red'}, 'y': None}\n"
     ]
    }
   ],
   "source": [
    "fruits={\n",
    "    \"list\":[\"apple\",\"grape\"],\n",
    "    \"tuple\":[\"red\",\"orange\"],\n",
    "    \"set\":[\"pineapple\"],\n",
    "    \"boolean\":(\"true\"),\n",
    "    \"dict\":{\"apple\":\"red\"},\n",
    "     \"y\":(None)\n",
    "}\n",
    "print(fruits)\n"
   ]
  },
  {
   "cell_type": "code",
   "execution_count": 60,
   "id": "a7f76315",
   "metadata": {},
   "outputs": [
    {
     "name": "stdout",
     "output_type": "stream",
     "text": [
      "Honda\n",
      "BMW\n",
      "nissan\n",
      "tata\n",
      "{'Brands': ['Honda', 'BMW', 'nissan', 'tata'], 'price': [450000, '50 lakh', '45 lakh', '50 lakh']}\n"
     ]
    }
   ],
   "source": [
    "cars={\n",
    "    \"Brands\":[\"Honda\",\"BMW\",\"nissan\",\"tata\"],\n",
    "    \"model\":[\"JAZZ\",\"X1\",\"micra\",\"tiago\"],\n",
    "    \"price\":[\"8 lakh\",\"50 lakh\",\"45 lakh\",\"50 lakh\"],\n",
    "}\n",
    "for x in cars[\"Brands\"]:\n",
    "    print(x)\n",
    "\n",
    "    \n",
    "cars[\"price\"][0]=450000\n",
    "cars.pop(\"model\")\n",
    "\n",
    "print(cars)\n"
   ]
  },
  {
   "cell_type": "code",
   "execution_count": 50,
   "id": "78285764",
   "metadata": {},
   "outputs": [
    {
     "data": {
      "text/plain": [
       "['JAZZ', 'X1', 'micra', 'tiago']"
      ]
     },
     "execution_count": 50,
     "metadata": {},
     "output_type": "execute_result"
    }
   ],
   "source": [
    "cars.pop(\"model\")"
   ]
  },
  {
   "cell_type": "code",
   "execution_count": 63,
   "id": "4521f651",
   "metadata": {},
   "outputs": [
    {
     "name": "stdout",
     "output_type": "stream",
     "text": [
      "{'child1': {'name': 'Emil', 'year': 2004}, 'child2': {'name': 'Tobias', 'year': 2007}, 'child3': {'name': 'Linus', 'year': 2011}}\n"
     ]
    }
   ],
   "source": [
    "myfamily = {\n",
    "  \"child1\" : {\n",
    "    \"name\" : \"Emil\",\n",
    "    \"year\" : 2004\n",
    "  },\n",
    "  \"child2\" : {\n",
    "    \"name\" : \"Tobias\",\n",
    "    \"year\" : 2007\n",
    "  },\n",
    "  \"child3\" : {\n",
    "    \"name\" : \"Linus\",\n",
    "    \"year\" : 2011\n",
    "  }\n",
    "}\n",
    "print(myfamily)"
   ]
  },
  {
   "cell_type": "code",
   "execution_count": null,
   "id": "203e739d",
   "metadata": {},
   "outputs": [],
   "source": []
  }
 ],
 "metadata": {
  "kernelspec": {
   "display_name": "Python 3 (ipykernel)",
   "language": "python",
   "name": "python3"
  },
  "language_info": {
   "codemirror_mode": {
    "name": "ipython",
    "version": 3
   },
   "file_extension": ".py",
   "mimetype": "text/x-python",
   "name": "python",
   "nbconvert_exporter": "python",
   "pygments_lexer": "ipython3",
   "version": "3.9.7"
  }
 },
 "nbformat": 4,
 "nbformat_minor": 5
}
