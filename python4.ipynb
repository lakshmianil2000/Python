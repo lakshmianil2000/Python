{
 "cells": [
  {
   "cell_type": "code",
   "execution_count": 3,
   "id": "ebf77fe0",
   "metadata": {},
   "outputs": [
    {
     "name": "stdout",
     "output_type": "stream",
     "text": [
      "b is greater than a\n"
     ]
    }
   ],
   "source": [
    "a=20\n",
    "b=30\n",
    "if a<b:\n",
    "    print(\"b is greater than a\")"
   ]
  },
  {
   "cell_type": "code",
   "execution_count": 27,
   "id": "bbe92ff9",
   "metadata": {},
   "outputs": [
    {
     "name": "stdout",
     "output_type": "stream",
     "text": [
      "5.0\n",
      "lakshmi\n",
      "True\n",
      "(3+5j)\n",
      "None\n",
      "['apple', 'orange', 'pineapple', 'orange', 'grapes']\n",
      "{1, 2, 3, 5, 9, 10, 11, 20}\n",
      "<class 'float'>\n",
      "<class 'str'>\n",
      "<class 'bool'>\n",
      "<class 'complex'>\n",
      "<class 'NoneType'>\n",
      "<class 'list'>\n",
      "['apple', 'orange']\n",
      "<class 'set'>\n"
     ]
    }
   ],
   "source": [
    "a=5.0\n",
    "b='lakshmi'\n",
    "c=True\n",
    "d=3+5j\n",
    "e=None\n",
    "fruits=[\"apple\",\"orange\",\"pineapple\",\"orange\"]\n",
    "fruits.append(\"grapes\")\n",
    "cars={1,5,10,3,11,9,2,20,5}\n",
    "print(a)\n",
    "print(b)\n",
    "print(c)\n",
    "print(d)\n",
    "print(e)\n",
    "print(fruits)\n",
    "print(cars)\n",
    "print(type(a))\n",
    "print(type(b))\n",
    "print(type(c))\n",
    "print(type(d))\n",
    "print(type(e))\n",
    "print(type(fruits))\n",
    "print(fruits[0:2])\n",
    "print(type(cars))\n",
    "\n",
    "\n"
   ]
  },
  {
   "cell_type": "code",
   "execution_count": 33,
   "id": "920a2152",
   "metadata": {},
   "outputs": [
    {
     "name": "stdout",
     "output_type": "stream",
     "text": [
      "{'Tropical': ['apple', 'orange', 'grapes'], 'Rate': ['150', '80', '70']}\n",
      "<class 'dict'>\n"
     ]
    },
    {
     "ename": "NameError",
     "evalue": "name 'Tropical' is not defined",
     "output_type": "error",
     "traceback": [
      "\u001b[1;31m---------------------------------------------------------------------------\u001b[0m",
      "\u001b[1;31mNameError\u001b[0m                                 Traceback (most recent call last)",
      "\u001b[1;32m~\\AppData\\Local\\Temp/ipykernel_6896/1365904481.py\u001b[0m in \u001b[0;36m<module>\u001b[1;34m\u001b[0m\n\u001b[0;32m      2\u001b[0m \u001b[0mprint\u001b[0m\u001b[1;33m(\u001b[0m\u001b[0mfruits\u001b[0m\u001b[1;33m)\u001b[0m\u001b[1;33m\u001b[0m\u001b[1;33m\u001b[0m\u001b[0m\n\u001b[0;32m      3\u001b[0m \u001b[0mprint\u001b[0m\u001b[1;33m(\u001b[0m\u001b[0mtype\u001b[0m\u001b[1;33m(\u001b[0m\u001b[0mfruits\u001b[0m\u001b[1;33m)\u001b[0m\u001b[1;33m)\u001b[0m\u001b[1;33m\u001b[0m\u001b[1;33m\u001b[0m\u001b[0m\n\u001b[1;32m----> 4\u001b[1;33m \u001b[0mprint\u001b[0m\u001b[1;33m(\u001b[0m\u001b[0mfruits\u001b[0m\u001b[1;33m[\u001b[0m\u001b[0mTropical\u001b[0m\u001b[1;33m]\u001b[0m\u001b[1;33m)\u001b[0m\u001b[1;33m\u001b[0m\u001b[1;33m\u001b[0m\u001b[0m\n\u001b[0m",
      "\u001b[1;31mNameError\u001b[0m: name 'Tropical' is not defined"
     ]
    }
   ],
   "source": [
    "fruits={\"Tropical\":[\"apple\",\"orange\",\"grapes\"],\"Rate\":[\"150\",\"80\",\"70\"]}\n",
    "print(fruits)\n",
    "print(type(fruits))\n",
    "print(fruits[Tropical])"
   ]
  }
 ],
 "metadata": {
  "kernelspec": {
   "display_name": "Python 3 (ipykernel)",
   "language": "python",
   "name": "python3"
  },
  "language_info": {
   "codemirror_mode": {
    "name": "ipython",
    "version": 3
   },
   "file_extension": ".py",
   "mimetype": "text/x-python",
   "name": "python",
   "nbconvert_exporter": "python",
   "pygments_lexer": "ipython3",
   "version": "3.9.7"
  }
 },
 "nbformat": 4,
 "nbformat_minor": 5
}
